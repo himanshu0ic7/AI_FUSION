{
  "cells": [
    {
      "cell_type": "code",
      "execution_count": 34,
      "metadata": {
        "id": "lfUY4xNLNEii"
      },
      "outputs": [],
      "source": [
        "import numpy as np\n",
        "import pandas as pd"
      ]
    },
    {
      "cell_type": "markdown",
      "metadata": {
        "id": "I4vwc592Ojax"
      },
      "source": [
        "\n",
        "```\n",
        "ID: Customer ID\n",
        "Pin-code: Home Area pincode(only 5 pin code)\n",
        "Age: Customer's age (21-65)\n",
        "Fam member: Total Family Members(1-4)\n",
        "Education: Customer's Education\n",
        "T-Experience: years of professional experience(-3,43)\n",
        "Income: Annual income of the customer(64000,1792000)\n",
        "Mortgage: Value of house mortgage if any (0,508000)\n",
        "Fixed Deposit: Does the customer have a certificate of deposit (CD) account with the bank?\n",
        "Demat: Does the customer have a Demat account with the bank?\n",
        "Net Banking: Does the customer use internet banking facilities?\n",
        "Loan: Did this customer accept the personal loan offered in the last campaign?\n",
        "```\n"
      ]
    },
    {
      "cell_type": "code",
      "execution_count": 35,
      "metadata": {
        "id": "4RAAhMotNaS9"
      },
      "outputs": [],
      "source": [
        "df=pd.read_csv(\"loan_dataset.csv\")"
      ]
    },
    {
      "cell_type": "code",
      "execution_count": 36,
      "metadata": {
        "colab": {
          "base_uri": "https://localhost:8080/",
          "height": 112
        },
        "id": "bz4Gu3R6N17Q",
        "outputId": "a14432ad-08b1-45ed-8ea2-a654ebf173ff"
      },
      "outputs": [
        {
          "data": {
            "text/html": [
              "<div>\n",
              "<style scoped>\n",
              "    .dataframe tbody tr th:only-of-type {\n",
              "        vertical-align: middle;\n",
              "    }\n",
              "\n",
              "    .dataframe tbody tr th {\n",
              "        vertical-align: top;\n",
              "    }\n",
              "\n",
              "    .dataframe thead th {\n",
              "        text-align: right;\n",
              "    }\n",
              "</style>\n",
              "<table border=\"1\" class=\"dataframe\">\n",
              "  <thead>\n",
              "    <tr style=\"text-align: right;\">\n",
              "      <th></th>\n",
              "      <th>Unnamed: 0</th>\n",
              "      <th>ID</th>\n",
              "      <th>Pin-code</th>\n",
              "      <th>age</th>\n",
              "      <th>Fam members</th>\n",
              "      <th>Education</th>\n",
              "      <th>T.Experience</th>\n",
              "      <th>Income</th>\n",
              "      <th>Mortgage</th>\n",
              "      <th>Fixed Deposit</th>\n",
              "      <th>Demat</th>\n",
              "      <th>Net Banking</th>\n",
              "      <th>Loan</th>\n",
              "    </tr>\n",
              "  </thead>\n",
              "  <tbody>\n",
              "    <tr>\n",
              "      <th>0</th>\n",
              "      <td>0</td>\n",
              "      <td>10001</td>\n",
              "      <td>110001</td>\n",
              "      <td>23</td>\n",
              "      <td>4.0</td>\n",
              "      <td>Under Graduate</td>\n",
              "      <td>1.0</td>\n",
              "      <td>392000</td>\n",
              "      <td>0</td>\n",
              "      <td>no</td>\n",
              "      <td>yes</td>\n",
              "      <td>no</td>\n",
              "      <td>no</td>\n",
              "    </tr>\n",
              "    <tr>\n",
              "      <th>1</th>\n",
              "      <td>1</td>\n",
              "      <td>10002</td>\n",
              "      <td>110014</td>\n",
              "      <td>43</td>\n",
              "      <td>3.0</td>\n",
              "      <td>Under Graduate</td>\n",
              "      <td>19.0</td>\n",
              "      <td>272000</td>\n",
              "      <td>0</td>\n",
              "      <td>no</td>\n",
              "      <td>yes</td>\n",
              "      <td>no</td>\n",
              "      <td>no</td>\n",
              "    </tr>\n",
              "  </tbody>\n",
              "</table>\n",
              "</div>"
            ],
            "text/plain": [
              "   Unnamed: 0     ID  Pin-code  age  Fam members       Education  \\\n",
              "0           0  10001    110001   23          4.0  Under Graduate   \n",
              "1           1  10002    110014   43          3.0  Under Graduate   \n",
              "\n",
              "   T.Experience  Income  Mortgage Fixed Deposit Demat Net Banking Loan  \n",
              "0           1.0  392000         0            no   yes          no   no  \n",
              "1          19.0  272000         0            no   yes          no   no  "
            ]
          },
          "execution_count": 36,
          "metadata": {},
          "output_type": "execute_result"
        }
      ],
      "source": [
        "df.head(2)"
      ]
    },
    {
      "cell_type": "markdown",
      "metadata": {
        "id": "70L7sVO1SOXc"
      },
      "source": [
        "#Getting insight about the data"
      ]
    },
    {
      "cell_type": "code",
      "execution_count": 37,
      "metadata": {
        "colab": {
          "base_uri": "https://localhost:8080/",
          "height": 300
        },
        "id": "ko6IowPtOuMr",
        "outputId": "032d0763-eca1-4d22-8201-ea0b79de07de"
      },
      "outputs": [
        {
          "data": {
            "text/html": [
              "<div>\n",
              "<style scoped>\n",
              "    .dataframe tbody tr th:only-of-type {\n",
              "        vertical-align: middle;\n",
              "    }\n",
              "\n",
              "    .dataframe tbody tr th {\n",
              "        vertical-align: top;\n",
              "    }\n",
              "\n",
              "    .dataframe thead th {\n",
              "        text-align: right;\n",
              "    }\n",
              "</style>\n",
              "<table border=\"1\" class=\"dataframe\">\n",
              "  <thead>\n",
              "    <tr style=\"text-align: right;\">\n",
              "      <th></th>\n",
              "      <th>Unnamed: 0</th>\n",
              "      <th>ID</th>\n",
              "      <th>Pin-code</th>\n",
              "      <th>age</th>\n",
              "      <th>Fam members</th>\n",
              "      <th>T.Experience</th>\n",
              "      <th>Income</th>\n",
              "      <th>Mortgage</th>\n",
              "    </tr>\n",
              "  </thead>\n",
              "  <tbody>\n",
              "    <tr>\n",
              "      <th>count</th>\n",
              "      <td>5000.000000</td>\n",
              "      <td>5.000000e+03</td>\n",
              "      <td>5000.000000</td>\n",
              "      <td>5000.000000</td>\n",
              "      <td>5000.000000</td>\n",
              "      <td>5000.000000</td>\n",
              "      <td>5.000000e+03</td>\n",
              "      <td>5.000000e+03</td>\n",
              "    </tr>\n",
              "    <tr>\n",
              "      <th>mean</th>\n",
              "      <td>2499.500000</td>\n",
              "      <td>8.186318e+06</td>\n",
              "      <td>110006.557800</td>\n",
              "      <td>43.338400</td>\n",
              "      <td>2.396400</td>\n",
              "      <td>20.104600</td>\n",
              "      <td>5.901936e+05</td>\n",
              "      <td>4.519904e+05</td>\n",
              "    </tr>\n",
              "    <tr>\n",
              "      <th>std</th>\n",
              "      <td>1443.520003</td>\n",
              "      <td>3.638026e+06</td>\n",
              "      <td>4.998725</td>\n",
              "      <td>11.463166</td>\n",
              "      <td>1.147663</td>\n",
              "      <td>11.467954</td>\n",
              "      <td>3.682698e+05</td>\n",
              "      <td>8.137104e+05</td>\n",
              "    </tr>\n",
              "    <tr>\n",
              "      <th>min</th>\n",
              "      <td>0.000000</td>\n",
              "      <td>1.000100e+04</td>\n",
              "      <td>110001.000000</td>\n",
              "      <td>21.000000</td>\n",
              "      <td>1.000000</td>\n",
              "      <td>-3.000000</td>\n",
              "      <td>6.400000e+04</td>\n",
              "      <td>0.000000e+00</td>\n",
              "    </tr>\n",
              "    <tr>\n",
              "      <th>25%</th>\n",
              "      <td>1249.750000</td>\n",
              "      <td>1.000125e+07</td>\n",
              "      <td>110003.000000</td>\n",
              "      <td>33.000000</td>\n",
              "      <td>1.000000</td>\n",
              "      <td>10.000000</td>\n",
              "      <td>3.120000e+05</td>\n",
              "      <td>0.000000e+00</td>\n",
              "    </tr>\n",
              "    <tr>\n",
              "      <th>50%</th>\n",
              "      <td>2499.500000</td>\n",
              "      <td>1.000250e+07</td>\n",
              "      <td>110004.000000</td>\n",
              "      <td>43.000000</td>\n",
              "      <td>2.000000</td>\n",
              "      <td>20.000000</td>\n",
              "      <td>5.120000e+05</td>\n",
              "      <td>0.000000e+00</td>\n",
              "    </tr>\n",
              "    <tr>\n",
              "      <th>75%</th>\n",
              "      <td>3749.250000</td>\n",
              "      <td>1.000375e+07</td>\n",
              "      <td>110011.000000</td>\n",
              "      <td>53.000000</td>\n",
              "      <td>3.000000</td>\n",
              "      <td>30.000000</td>\n",
              "      <td>7.840000e+05</td>\n",
              "      <td>8.080000e+05</td>\n",
              "    </tr>\n",
              "    <tr>\n",
              "      <th>max</th>\n",
              "      <td>4999.000000</td>\n",
              "      <td>1.000500e+07</td>\n",
              "      <td>110014.000000</td>\n",
              "      <td>65.000000</td>\n",
              "      <td>4.000000</td>\n",
              "      <td>43.000000</td>\n",
              "      <td>1.792000e+06</td>\n",
              "      <td>5.080000e+06</td>\n",
              "    </tr>\n",
              "  </tbody>\n",
              "</table>\n",
              "</div>"
            ],
            "text/plain": [
              "        Unnamed: 0            ID       Pin-code          age  Fam members  \\\n",
              "count  5000.000000  5.000000e+03    5000.000000  5000.000000  5000.000000   \n",
              "mean   2499.500000  8.186318e+06  110006.557800    43.338400     2.396400   \n",
              "std    1443.520003  3.638026e+06       4.998725    11.463166     1.147663   \n",
              "min       0.000000  1.000100e+04  110001.000000    21.000000     1.000000   \n",
              "25%    1249.750000  1.000125e+07  110003.000000    33.000000     1.000000   \n",
              "50%    2499.500000  1.000250e+07  110004.000000    43.000000     2.000000   \n",
              "75%    3749.250000  1.000375e+07  110011.000000    53.000000     3.000000   \n",
              "max    4999.000000  1.000500e+07  110014.000000    65.000000     4.000000   \n",
              "\n",
              "       T.Experience        Income      Mortgage  \n",
              "count   5000.000000  5.000000e+03  5.000000e+03  \n",
              "mean      20.104600  5.901936e+05  4.519904e+05  \n",
              "std       11.467954  3.682698e+05  8.137104e+05  \n",
              "min       -3.000000  6.400000e+04  0.000000e+00  \n",
              "25%       10.000000  3.120000e+05  0.000000e+00  \n",
              "50%       20.000000  5.120000e+05  0.000000e+00  \n",
              "75%       30.000000  7.840000e+05  8.080000e+05  \n",
              "max       43.000000  1.792000e+06  5.080000e+06  "
            ]
          },
          "execution_count": 37,
          "metadata": {},
          "output_type": "execute_result"
        }
      ],
      "source": [
        "df.describe()"
      ]
    },
    {
      "cell_type": "code",
      "execution_count": 38,
      "metadata": {
        "colab": {
          "base_uri": "https://localhost:8080/"
        },
        "id": "NHoHiXDNO7XI",
        "outputId": "6f1ed6b7-7eb1-43dd-a007-ce295214ac3b"
      },
      "outputs": [
        {
          "name": "stdout",
          "output_type": "stream",
          "text": [
            "<class 'pandas.core.frame.DataFrame'>\n",
            "RangeIndex: 5000 entries, 0 to 4999\n",
            "Data columns (total 13 columns):\n",
            " #   Column         Non-Null Count  Dtype  \n",
            "---  ------         --------------  -----  \n",
            " 0   Unnamed: 0     5000 non-null   int64  \n",
            " 1   ID             5000 non-null   int64  \n",
            " 2   Pin-code       5000 non-null   int64  \n",
            " 3   age            5000 non-null   int64  \n",
            " 4   Fam members    5000 non-null   float64\n",
            " 5   Education      5000 non-null   object \n",
            " 6   T.Experience   5000 non-null   float64\n",
            " 7   Income         5000 non-null   int64  \n",
            " 8   Mortgage       5000 non-null   int64  \n",
            " 9   Fixed Deposit  5000 non-null   object \n",
            " 10  Demat          5000 non-null   object \n",
            " 11  Net Banking    5000 non-null   object \n",
            " 12  Loan           5000 non-null   object \n",
            "dtypes: float64(2), int64(6), object(5)\n",
            "memory usage: 507.9+ KB\n"
          ]
        }
      ],
      "source": [
        "df.info()"
      ]
    },
    {
      "cell_type": "markdown",
      "metadata": {
        "id": "wJ92Vt6aSHrS"
      },
      "source": [
        "# Dropping unnecessary columns & rows"
      ]
    },
    {
      "cell_type": "code",
      "execution_count": 39,
      "metadata": {
        "id": "P1lMDm_ON820"
      },
      "outputs": [],
      "source": [
        "df.drop('Unnamed: 0',axis=1,inplace=True)"
      ]
    },
    {
      "cell_type": "code",
      "execution_count": 40,
      "metadata": {
        "colab": {
          "base_uri": "https://localhost:8080/"
        },
        "id": "H1ivKzwPO87z",
        "outputId": "52b16ce2-3029-4f03-ea1a-b528e0b71368"
      },
      "outputs": [
        {
          "data": {
            "text/plain": [
              "5000"
            ]
          },
          "execution_count": 40,
          "metadata": {},
          "output_type": "execute_result"
        }
      ],
      "source": [
        "df['ID'].nunique()"
      ]
    },
    {
      "cell_type": "code",
      "execution_count": 41,
      "metadata": {
        "id": "o52D8S9QRtUH"
      },
      "outputs": [],
      "source": [
        "df.drop('ID',axis=1,inplace=True)#Since all the customers are with unique"
      ]
    },
    {
      "cell_type": "code",
      "execution_count": 42,
      "metadata": {
        "colab": {
          "base_uri": "https://localhost:8080/"
        },
        "id": "4oS0auVSUEmV",
        "outputId": "732dae07-a84d-4462-b693-85d29bac2d7f"
      },
      "outputs": [
        {
          "data": {
            "text/plain": [
              "np.int64(9)"
            ]
          },
          "execution_count": 42,
          "metadata": {},
          "output_type": "execute_result"
        }
      ],
      "source": [
        "df.duplicated().sum()"
      ]
    },
    {
      "cell_type": "code",
      "execution_count": 43,
      "metadata": {
        "id": "x4snfBqbUNB_"
      },
      "outputs": [],
      "source": [
        "df.drop_duplicates(inplace=True)# Since 9 rows are the same"
      ]
    },
    {
      "cell_type": "code",
      "execution_count": 44,
      "metadata": {
        "colab": {
          "base_uri": "https://localhost:8080/",
          "height": 429
        },
        "id": "44t8vNQBUZRp",
        "outputId": "358fc2f2-f21f-474b-80a4-98b4a08d221e"
      },
      "outputs": [
        {
          "data": {
            "text/plain": [
              "Pin-code         0\n",
              "age              0\n",
              "Fam members      0\n",
              "Education        0\n",
              "T.Experience     0\n",
              "Income           0\n",
              "Mortgage         0\n",
              "Fixed Deposit    0\n",
              "Demat            0\n",
              "Net Banking      0\n",
              "Loan             0\n",
              "dtype: int64"
            ]
          },
          "execution_count": 44,
          "metadata": {},
          "output_type": "execute_result"
        }
      ],
      "source": [
        "df.isnull().sum()"
      ]
    },
    {
      "cell_type": "markdown",
      "metadata": {
        "id": "dGfBWFjWSXnC"
      },
      "source": [
        "# Changing datatype"
      ]
    },
    {
      "cell_type": "code",
      "execution_count": 45,
      "metadata": {
        "id": "pZIiUlTmSAQD"
      },
      "outputs": [],
      "source": [
        "df['Pin-code']=df['Pin-code'].astype('category')"
      ]
    },
    {
      "cell_type": "code",
      "execution_count": 46,
      "metadata": {
        "colab": {
          "base_uri": "https://localhost:8080/",
          "height": 241
        },
        "id": "xsN2vOVZSecB",
        "outputId": "43eccebb-ba1b-415b-ae87-0a26ecce3a68"
      },
      "outputs": [
        {
          "data": {
            "text/plain": [
              "Fam members\n",
              "1.0    1470\n",
              "2.0    1293\n",
              "4.0    1220\n",
              "3.0    1008\n",
              "Name: count, dtype: int64"
            ]
          },
          "execution_count": 46,
          "metadata": {},
          "output_type": "execute_result"
        }
      ],
      "source": [
        "df['Fam members'].value_counts()"
      ]
    },
    {
      "cell_type": "code",
      "execution_count": 47,
      "metadata": {
        "id": "_1C04D-eS6so"
      },
      "outputs": [],
      "source": [
        "df['Fam members']=df['Fam members'].astype('category')"
      ]
    },
    {
      "cell_type": "code",
      "execution_count": 48,
      "metadata": {
        "id": "0ZSrVIT0V4Ky"
      },
      "outputs": [
        {
          "name": "stderr",
          "output_type": "stream",
          "text": [
            "C:\\temp\\ipykernel_13360\\2251079288.py:1: FutureWarning: A value is trying to be set on a copy of a DataFrame or Series through chained assignment using an inplace method.\n",
            "The behavior will change in pandas 3.0. This inplace method will never work because the intermediate object on which we are setting values always behaves as a copy.\n",
            "\n",
            "For example, when doing 'df[col].method(value, inplace=True)', try using 'df.method({col: value}, inplace=True)' or df[col] = df[col].method(value) instead, to perform the operation inplace on the original object.\n",
            "\n",
            "\n",
            "  df['Education'].replace({'Under Graduate':0,'Post Graduate':1,'Graduate':2},inplace=True)\n",
            "C:\\temp\\ipykernel_13360\\2251079288.py:1: FutureWarning: Downcasting behavior in `replace` is deprecated and will be removed in a future version. To retain the old behavior, explicitly call `result.infer_objects(copy=False)`. To opt-in to the future behavior, set `pd.set_option('future.no_silent_downcasting', True)`\n",
            "  df['Education'].replace({'Under Graduate':0,'Post Graduate':1,'Graduate':2},inplace=True)\n"
          ]
        }
      ],
      "source": [
        "df['Education'].replace({'Under Graduate':0,'Post Graduate':1,'Graduate':2},inplace=True)\n",
        "df['Education']=df['Education'].astype('category')"
      ]
    },
    {
      "cell_type": "code",
      "execution_count": 49,
      "metadata": {
        "colab": {
          "base_uri": "https://localhost:8080/"
        },
        "id": "lpqr4JLEXzOW",
        "outputId": "e74cd381-4b4c-4b24-88f9-cbacfe19ae29"
      },
      "outputs": [
        {
          "data": {
            "text/plain": [
              "array([ 1., 19., 15.,  9.,  8., 13., 27., 24., 10., 39.,  5., 23., 32.,\n",
              "       41., 30., 14., 18., 21., 28., 31., 11., 16., 20., 35.,  6., 25.,\n",
              "        7., 12., 26., 37., 17.,  2., 36., 29.,  3., 22., -1., 34.,  0.,\n",
              "       38., 40., 33.,  4., -2., 42., -3., 43.])"
            ]
          },
          "execution_count": 49,
          "metadata": {},
          "output_type": "execute_result"
        }
      ],
      "source": [
        "df['T.Experience'].unique()"
      ]
    },
    {
      "cell_type": "code",
      "execution_count": 50,
      "metadata": {
        "id": "-CzbX0YeXZCW"
      },
      "outputs": [],
      "source": [
        "df['T.Experience']=df['T.Experience'].astype('int')"
      ]
    },
    {
      "cell_type": "code",
      "execution_count": 51,
      "metadata": {
        "id": "GHlnfNM3YcoG"
      },
      "outputs": [],
      "source": [
        "df['Income']=df['Income'].astype('int')"
      ]
    },
    {
      "cell_type": "code",
      "execution_count": 52,
      "metadata": {
        "id": "bsRoGdqSZIDg"
      },
      "outputs": [],
      "source": [
        "df['Mortgage']=df['Mortgage'].astype('int')"
      ]
    },
    {
      "cell_type": "code",
      "execution_count": 53,
      "metadata": {
        "colab": {
          "base_uri": "https://localhost:8080/"
        },
        "id": "xtsHUe3YZvzf",
        "outputId": "db26fa84-92a3-400f-ff03-65c823136a63"
      },
      "outputs": [
        {
          "data": {
            "text/plain": [
              "Index(['Pin-code', 'age', 'Fam members', 'Education', 'T.Experience', 'Income',\n",
              "       'Mortgage', 'Fixed Deposit', 'Demat', 'Net Banking', 'Loan'],\n",
              "      dtype='object')"
            ]
          },
          "execution_count": 53,
          "metadata": {},
          "output_type": "execute_result"
        }
      ],
      "source": [
        "df.columns"
      ]
    },
    {
      "cell_type": "code",
      "execution_count": 54,
      "metadata": {
        "colab": {
          "base_uri": "https://localhost:8080/"
        },
        "id": "0mia5JGiZ2xO",
        "outputId": "c450dfc6-2766-41e5-996b-69d777c79698"
      },
      "outputs": [
        {
          "name": "stderr",
          "output_type": "stream",
          "text": [
            "C:\\temp\\ipykernel_13360\\993962828.py:4: FutureWarning: A value is trying to be set on a copy of a DataFrame or Series through chained assignment using an inplace method.\n",
            "The behavior will change in pandas 3.0. This inplace method will never work because the intermediate object on which we are setting values always behaves as a copy.\n",
            "\n",
            "For example, when doing 'df[col].method(value, inplace=True)', try using 'df.method({col: value}, inplace=True)' or df[col] = df[col].method(value) instead, to perform the operation inplace on the original object.\n",
            "\n",
            "\n",
            "  df[column].replace({'no':0,'yes':1},inplace=True)\n",
            "C:\\temp\\ipykernel_13360\\993962828.py:4: FutureWarning: Downcasting behavior in `replace` is deprecated and will be removed in a future version. To retain the old behavior, explicitly call `result.infer_objects(copy=False)`. To opt-in to the future behavior, set `pd.set_option('future.no_silent_downcasting', True)`\n",
            "  df[column].replace({'no':0,'yes':1},inplace=True)\n",
            "C:\\temp\\ipykernel_13360\\993962828.py:4: FutureWarning: A value is trying to be set on a copy of a DataFrame or Series through chained assignment using an inplace method.\n",
            "The behavior will change in pandas 3.0. This inplace method will never work because the intermediate object on which we are setting values always behaves as a copy.\n",
            "\n",
            "For example, when doing 'df[col].method(value, inplace=True)', try using 'df.method({col: value}, inplace=True)' or df[col] = df[col].method(value) instead, to perform the operation inplace on the original object.\n",
            "\n",
            "\n",
            "  df[column].replace({'no':0,'yes':1},inplace=True)\n",
            "C:\\temp\\ipykernel_13360\\993962828.py:4: FutureWarning: Downcasting behavior in `replace` is deprecated and will be removed in a future version. To retain the old behavior, explicitly call `result.infer_objects(copy=False)`. To opt-in to the future behavior, set `pd.set_option('future.no_silent_downcasting', True)`\n",
            "  df[column].replace({'no':0,'yes':1},inplace=True)\n",
            "C:\\temp\\ipykernel_13360\\993962828.py:4: FutureWarning: A value is trying to be set on a copy of a DataFrame or Series through chained assignment using an inplace method.\n",
            "The behavior will change in pandas 3.0. This inplace method will never work because the intermediate object on which we are setting values always behaves as a copy.\n",
            "\n",
            "For example, when doing 'df[col].method(value, inplace=True)', try using 'df.method({col: value}, inplace=True)' or df[col] = df[col].method(value) instead, to perform the operation inplace on the original object.\n",
            "\n",
            "\n",
            "  df[column].replace({'no':0,'yes':1},inplace=True)\n",
            "C:\\temp\\ipykernel_13360\\993962828.py:4: FutureWarning: Downcasting behavior in `replace` is deprecated and will be removed in a future version. To retain the old behavior, explicitly call `result.infer_objects(copy=False)`. To opt-in to the future behavior, set `pd.set_option('future.no_silent_downcasting', True)`\n",
            "  df[column].replace({'no':0,'yes':1},inplace=True)\n",
            "C:\\temp\\ipykernel_13360\\993962828.py:4: FutureWarning: A value is trying to be set on a copy of a DataFrame or Series through chained assignment using an inplace method.\n",
            "The behavior will change in pandas 3.0. This inplace method will never work because the intermediate object on which we are setting values always behaves as a copy.\n",
            "\n",
            "For example, when doing 'df[col].method(value, inplace=True)', try using 'df.method({col: value}, inplace=True)' or df[col] = df[col].method(value) instead, to perform the operation inplace on the original object.\n",
            "\n",
            "\n",
            "  df[column].replace({'no':0,'yes':1},inplace=True)\n"
          ]
        },
        {
          "name": "stdout",
          "output_type": "stream",
          "text": [
            "Fixed Deposit\n",
            "no     4689\n",
            "yes     302\n",
            "Name: count, dtype: int64\n",
            "Demat\n",
            "no     4470\n",
            "yes     521\n",
            "Name: count, dtype: int64\n",
            "Net Banking\n",
            "yes    2979\n",
            "no     2012\n",
            "Name: count, dtype: int64\n",
            "Loan\n",
            "no     4511\n",
            "yes     480\n",
            "Name: count, dtype: int64\n"
          ]
        },
        {
          "name": "stderr",
          "output_type": "stream",
          "text": [
            "C:\\temp\\ipykernel_13360\\993962828.py:4: FutureWarning: Downcasting behavior in `replace` is deprecated and will be removed in a future version. To retain the old behavior, explicitly call `result.infer_objects(copy=False)`. To opt-in to the future behavior, set `pd.set_option('future.no_silent_downcasting', True)`\n",
            "  df[column].replace({'no':0,'yes':1},inplace=True)\n"
          ]
        }
      ],
      "source": [
        "columns=['Fixed Deposit', 'Demat', 'Net Banking', 'Loan']\n",
        "for column in columns:\n",
        "  print(df[column].value_counts())\n",
        "  df[column].replace({'no':0,'yes':1},inplace=True)\n",
        "  df[column]=df[column].astype('category')"
      ]
    },
    {
      "cell_type": "code",
      "execution_count": 55,
      "metadata": {
        "colab": {
          "base_uri": "https://localhost:8080/"
        },
        "id": "_4Pv5UAjaC2k",
        "outputId": "65dc9463-9252-4520-b1a7-5f15bc211dcf"
      },
      "outputs": [
        {
          "name": "stdout",
          "output_type": "stream",
          "text": [
            "<class 'pandas.core.frame.DataFrame'>\n",
            "Index: 4991 entries, 0 to 4999\n",
            "Data columns (total 11 columns):\n",
            " #   Column         Non-Null Count  Dtype   \n",
            "---  ------         --------------  -----   \n",
            " 0   Pin-code       4991 non-null   category\n",
            " 1   age            4991 non-null   int64   \n",
            " 2   Fam members    4991 non-null   category\n",
            " 3   Education      4991 non-null   category\n",
            " 4   T.Experience   4991 non-null   int64   \n",
            " 5   Income         4991 non-null   int64   \n",
            " 6   Mortgage       4991 non-null   int64   \n",
            " 7   Fixed Deposit  4991 non-null   category\n",
            " 8   Demat          4991 non-null   category\n",
            " 9   Net Banking    4991 non-null   category\n",
            " 10  Loan           4991 non-null   category\n",
            "dtypes: category(7), int64(4)\n",
            "memory usage: 230.1 KB\n"
          ]
        }
      ],
      "source": [
        "df.info()"
      ]
    },
    {
      "cell_type": "markdown",
      "metadata": {
        "id": "q8aGjEvfawnZ"
      },
      "source": [
        "# Little Analysis"
      ]
    },
    {
      "cell_type": "markdown",
      "metadata": {
        "id": "d7Od9rhJazT1"
      },
      "source": [
        "```\n",
        "If technical experience is less than zero there might have been a mistake in filling a form hence loan not approved.\n",
        "\n",
        "Loan has high corelation with\n",
        "Education 0.127\n",
        "Income\t0.502621\n",
        "Mortgage\t0.141822\n",
        "Fixed Deposit\t0.316254\n",
        "Demat 0.021990\n",
        "```"
      ]
    },
    {
      "cell_type": "code",
      "execution_count": 56,
      "metadata": {
        "colab": {
          "base_uri": "https://localhost:8080/",
          "height": 178
        },
        "id": "scix2E8rZdIN",
        "outputId": "70681921-f4fd-4474-f6c3-7aca60cfd25c"
      },
      "outputs": [
        {
          "data": {
            "text/plain": [
              "Loan\n",
              "0    3141\n",
              "1     312\n",
              "Name: count, dtype: int64"
            ]
          },
          "execution_count": 56,
          "metadata": {},
          "output_type": "execute_result"
        }
      ],
      "source": [
        "df[df['Mortgage']==0]['Loan'].value_counts()"
      ]
    },
    {
      "cell_type": "code",
      "execution_count": 57,
      "metadata": {
        "colab": {
          "base_uri": "https://localhost:8080/"
        },
        "collapsed": true,
        "id": "BxJhmEYvWi8a",
        "outputId": "2f28aeef-ae1f-44ea-c228-0f9ec0390790"
      },
      "outputs": [
        {
          "data": {
            "text/plain": [
              "52"
            ]
          },
          "execution_count": 57,
          "metadata": {},
          "output_type": "execute_result"
        }
      ],
      "source": [
        "len(df[df['T.Experience']<0])"
      ]
    },
    {
      "cell_type": "markdown",
      "metadata": {
        "id": "i1EgEPViebFb"
      },
      "source": [
        "df.groupby('Pin-code')['Loan'].value_counts()"
      ]
    },
    {
      "cell_type": "code",
      "execution_count": 58,
      "metadata": {
        "colab": {
          "base_uri": "https://localhost:8080/"
        },
        "id": "8eKjXtl-bWQn",
        "outputId": "ebfe1109-cec9-4d40-c320-78636fb9cde3"
      },
      "outputs": [
        {
          "name": "stdout",
          "output_type": "stream",
          "text": [
            "Loan        0    1\n",
            "Pin-code          \n",
            "110001    931   87\n",
            "110003    878   95\n",
            "110004    917  107\n",
            "110011    885  103\n",
            "110014    900   88\n",
            "\n",
            "Loan              0    1\n",
            "Fixed Deposit           \n",
            "0              4349  340\n",
            "1               162  140\n",
            "\n",
            "Loan      0    1\n",
            "Demat           \n",
            "0      4050  420\n",
            "1       461   60\n",
            "\n",
            "Loan            0    1\n",
            "Net Banking           \n",
            "0            1823  189\n",
            "1            2688  291\n",
            "\n",
            "Loan          0    1\n",
            "Education           \n",
            "0          1997   93\n",
            "1          1295  205\n",
            "2          1219  182\n",
            "\n"
          ]
        }
      ],
      "source": [
        "columns=['Pin-code','Fixed Deposit', 'Demat', 'Net Banking', 'Education']\n",
        "for column in columns:\n",
        "  print(pd.crosstab(df[column],df['Loan']))\n",
        "  print()"
      ]
    },
    {
      "cell_type": "code",
      "execution_count": 59,
      "metadata": {
        "colab": {
          "base_uri": "https://localhost:8080/",
          "height": 112
        },
        "id": "_-1ByY9GePZu",
        "outputId": "8d8ab799-a2d0-4aa1-e3cb-8a19e6694925"
      },
      "outputs": [
        {
          "data": {
            "text/html": [
              "<div>\n",
              "<style scoped>\n",
              "    .dataframe tbody tr th:only-of-type {\n",
              "        vertical-align: middle;\n",
              "    }\n",
              "\n",
              "    .dataframe tbody tr th {\n",
              "        vertical-align: top;\n",
              "    }\n",
              "\n",
              "    .dataframe thead th {\n",
              "        text-align: right;\n",
              "    }\n",
              "</style>\n",
              "<table border=\"1\" class=\"dataframe\">\n",
              "  <thead>\n",
              "    <tr style=\"text-align: right;\">\n",
              "      <th></th>\n",
              "      <th>Pin-code</th>\n",
              "      <th>age</th>\n",
              "      <th>Fam members</th>\n",
              "      <th>Education</th>\n",
              "      <th>T.Experience</th>\n",
              "      <th>Income</th>\n",
              "      <th>Mortgage</th>\n",
              "      <th>Fixed Deposit</th>\n",
              "      <th>Demat</th>\n",
              "      <th>Net Banking</th>\n",
              "      <th>Loan</th>\n",
              "    </tr>\n",
              "  </thead>\n",
              "  <tbody>\n",
              "    <tr>\n",
              "      <th>0</th>\n",
              "      <td>110001</td>\n",
              "      <td>23</td>\n",
              "      <td>4.0</td>\n",
              "      <td>0</td>\n",
              "      <td>1</td>\n",
              "      <td>392000</td>\n",
              "      <td>0</td>\n",
              "      <td>0</td>\n",
              "      <td>1</td>\n",
              "      <td>0</td>\n",
              "      <td>0</td>\n",
              "    </tr>\n",
              "    <tr>\n",
              "      <th>1</th>\n",
              "      <td>110014</td>\n",
              "      <td>43</td>\n",
              "      <td>3.0</td>\n",
              "      <td>0</td>\n",
              "      <td>19</td>\n",
              "      <td>272000</td>\n",
              "      <td>0</td>\n",
              "      <td>0</td>\n",
              "      <td>1</td>\n",
              "      <td>0</td>\n",
              "      <td>0</td>\n",
              "    </tr>\n",
              "  </tbody>\n",
              "</table>\n",
              "</div>"
            ],
            "text/plain": [
              "  Pin-code  age Fam members Education  T.Experience  Income  Mortgage  \\\n",
              "0   110001   23         4.0         0             1  392000         0   \n",
              "1   110014   43         3.0         0            19  272000         0   \n",
              "\n",
              "  Fixed Deposit Demat Net Banking Loan  \n",
              "0             0     1           0    0  \n",
              "1             0     1           0    0  "
            ]
          },
          "execution_count": 59,
          "metadata": {},
          "output_type": "execute_result"
        }
      ],
      "source": [
        "df.head(2)"
      ]
    },
    {
      "cell_type": "code",
      "execution_count": 60,
      "metadata": {
        "id": "syN73X2CMQ7I"
      },
      "outputs": [],
      "source": [
        "columns=['age','T.Experience','Income','Mortgage']\n",
        "for column in columns:\n",
        "  df[column]=(df[column]-df[column].min())/(df[column].max()-df[column].min())"
      ]
    },
    {
      "cell_type": "code",
      "execution_count": 61,
      "metadata": {
        "id": "-LOXhJjBU_H6"
      },
      "outputs": [],
      "source": [
        "from sklearn.preprocessing import LabelEncoder\n",
        "le = LabelEncoder()\n",
        "df['Pin-code'] = le.fit_transform(df['Pin-code'])"
      ]
    },
    {
      "cell_type": "code",
      "execution_count": 62,
      "metadata": {
        "colab": {
          "base_uri": "https://localhost:8080/",
          "height": 206
        },
        "id": "2Ho9FstTNHxm",
        "outputId": "26ceafe7-0d3c-4348-c826-f7a8bd5677fd"
      },
      "outputs": [
        {
          "data": {
            "text/html": [
              "<div>\n",
              "<style scoped>\n",
              "    .dataframe tbody tr th:only-of-type {\n",
              "        vertical-align: middle;\n",
              "    }\n",
              "\n",
              "    .dataframe tbody tr th {\n",
              "        vertical-align: top;\n",
              "    }\n",
              "\n",
              "    .dataframe thead th {\n",
              "        text-align: right;\n",
              "    }\n",
              "</style>\n",
              "<table border=\"1\" class=\"dataframe\">\n",
              "  <thead>\n",
              "    <tr style=\"text-align: right;\">\n",
              "      <th></th>\n",
              "      <th>Pin-code</th>\n",
              "      <th>age</th>\n",
              "      <th>Fam members</th>\n",
              "      <th>Education</th>\n",
              "      <th>T.Experience</th>\n",
              "      <th>Income</th>\n",
              "      <th>Mortgage</th>\n",
              "      <th>Fixed Deposit</th>\n",
              "      <th>Demat</th>\n",
              "      <th>Net Banking</th>\n",
              "      <th>Loan</th>\n",
              "    </tr>\n",
              "  </thead>\n",
              "  <tbody>\n",
              "    <tr>\n",
              "      <th>0</th>\n",
              "      <td>0</td>\n",
              "      <td>0.045455</td>\n",
              "      <td>4.0</td>\n",
              "      <td>0</td>\n",
              "      <td>0.086957</td>\n",
              "      <td>0.189815</td>\n",
              "      <td>0.0</td>\n",
              "      <td>0</td>\n",
              "      <td>1</td>\n",
              "      <td>0</td>\n",
              "      <td>0</td>\n",
              "    </tr>\n",
              "    <tr>\n",
              "      <th>1</th>\n",
              "      <td>4</td>\n",
              "      <td>0.500000</td>\n",
              "      <td>3.0</td>\n",
              "      <td>0</td>\n",
              "      <td>0.478261</td>\n",
              "      <td>0.120370</td>\n",
              "      <td>0.0</td>\n",
              "      <td>0</td>\n",
              "      <td>1</td>\n",
              "      <td>0</td>\n",
              "      <td>0</td>\n",
              "    </tr>\n",
              "    <tr>\n",
              "      <th>2</th>\n",
              "      <td>4</td>\n",
              "      <td>0.363636</td>\n",
              "      <td>1.0</td>\n",
              "      <td>0</td>\n",
              "      <td>0.391304</td>\n",
              "      <td>0.013889</td>\n",
              "      <td>0.0</td>\n",
              "      <td>0</td>\n",
              "      <td>0</td>\n",
              "      <td>0</td>\n",
              "      <td>0</td>\n",
              "    </tr>\n",
              "    <tr>\n",
              "      <th>3</th>\n",
              "      <td>1</td>\n",
              "      <td>0.272727</td>\n",
              "      <td>1.0</td>\n",
              "      <td>2</td>\n",
              "      <td>0.260870</td>\n",
              "      <td>0.425926</td>\n",
              "      <td>0.0</td>\n",
              "      <td>0</td>\n",
              "      <td>0</td>\n",
              "      <td>0</td>\n",
              "      <td>0</td>\n",
              "    </tr>\n",
              "    <tr>\n",
              "      <th>4</th>\n",
              "      <td>2</td>\n",
              "      <td>0.272727</td>\n",
              "      <td>4.0</td>\n",
              "      <td>2</td>\n",
              "      <td>0.239130</td>\n",
              "      <td>0.171296</td>\n",
              "      <td>0.0</td>\n",
              "      <td>0</td>\n",
              "      <td>0</td>\n",
              "      <td>0</td>\n",
              "      <td>0</td>\n",
              "    </tr>\n",
              "  </tbody>\n",
              "</table>\n",
              "</div>"
            ],
            "text/plain": [
              "   Pin-code       age Fam members Education  T.Experience    Income  Mortgage  \\\n",
              "0         0  0.045455         4.0         0      0.086957  0.189815       0.0   \n",
              "1         4  0.500000         3.0         0      0.478261  0.120370       0.0   \n",
              "2         4  0.363636         1.0         0      0.391304  0.013889       0.0   \n",
              "3         1  0.272727         1.0         2      0.260870  0.425926       0.0   \n",
              "4         2  0.272727         4.0         2      0.239130  0.171296       0.0   \n",
              "\n",
              "  Fixed Deposit Demat Net Banking Loan  \n",
              "0             0     1           0    0  \n",
              "1             0     1           0    0  \n",
              "2             0     0           0    0  \n",
              "3             0     0           0    0  \n",
              "4             0     0           0    0  "
            ]
          },
          "execution_count": 62,
          "metadata": {},
          "output_type": "execute_result"
        }
      ],
      "source": [
        "df.head()"
      ]
    },
    {
      "cell_type": "markdown",
      "metadata": {
        "id": "kvgoKeZoOF70"
      },
      "source": [
        "# Insight about Loan Columns"
      ]
    },
    {
      "cell_type": "code",
      "execution_count": 63,
      "metadata": {
        "colab": {
          "base_uri": "https://localhost:8080/",
          "height": 178
        },
        "id": "-8ui4u2xN72O",
        "outputId": "43b921bd-b739-4e12-9df4-c6318b767cf7"
      },
      "outputs": [
        {
          "data": {
            "text/plain": [
              "Loan\n",
              "0    4511\n",
              "1     480\n",
              "Name: count, dtype: int64"
            ]
          },
          "execution_count": 63,
          "metadata": {},
          "output_type": "execute_result"
        }
      ],
      "source": [
        "df['Loan'].value_counts()"
      ]
    },
    {
      "cell_type": "code",
      "execution_count": 64,
      "metadata": {
        "id": "o2lLQWPFTD0F"
      },
      "outputs": [],
      "source": [
        "from collections import Counter\n",
        "from imblearn.over_sampling import SMOTE"
      ]
    },
    {
      "cell_type": "code",
      "execution_count": 65,
      "metadata": {
        "id": "0pjK0FmiTLu1"
      },
      "outputs": [],
      "source": [
        "X=df.drop(columns=['Loan'])\n",
        "y=df['Loan']"
      ]
    },
    {
      "cell_type": "code",
      "execution_count": 66,
      "metadata": {
        "id": "dqglCiZZTI0O"
      },
      "outputs": [],
      "source": [
        "sm = SMOTE(random_state=42)\n",
        "X_res, y_res = sm.fit_resample(X, y)"
      ]
    },
    {
      "cell_type": "code",
      "execution_count": 67,
      "metadata": {
        "colab": {
          "base_uri": "https://localhost:8080/",
          "height": 248
        },
        "id": "GsC8QRE_TTmm",
        "outputId": "d4185c4e-58cc-4c47-b82f-51b519adee56"
      },
      "outputs": [
        {
          "name": "stdout",
          "output_type": "stream",
          "text": [
            "Loan\n",
            "0    4511\n",
            "1     480\n",
            "Name: count, dtype: int64\n"
          ]
        },
        {
          "data": {
            "text/plain": [
              "Loan\n",
              "0    4511\n",
              "1    4511\n",
              "Name: count, dtype: int64"
            ]
          },
          "execution_count": 67,
          "metadata": {},
          "output_type": "execute_result"
        }
      ],
      "source": [
        "print(y.value_counts())\n",
        "y_res.value_counts()"
      ]
    },
    {
      "cell_type": "code",
      "execution_count": 68,
      "metadata": {
        "colab": {
          "base_uri": "https://localhost:8080/",
          "height": 429
        },
        "id": "VHo7zkazdP-c",
        "outputId": "92cfc8ce-b783-4e1a-9f12-49e431dac884"
      },
      "outputs": [
        {
          "data": {
            "text/plain": [
              "Pin-code         0.006884\n",
              "age             -0.007748\n",
              "Fam members      0.061445\n",
              "Education        0.127917\n",
              "T.Experience    -0.007446\n",
              "Income           0.502621\n",
              "Mortgage         0.141822\n",
              "Fixed Deposit    0.316254\n",
              "Demat            0.021990\n",
              "Net Banking      0.006235\n",
              "Loan             1.000000\n",
              "Name: Loan, dtype: float64"
            ]
          },
          "execution_count": 68,
          "metadata": {},
          "output_type": "execute_result"
        }
      ],
      "source": [
        "df.corr()['Loan']"
      ]
    },
    {
      "cell_type": "markdown",
      "metadata": {
        "id": "MMe6_Yi7fvCV"
      },
      "source": [
        "#Model Training"
      ]
    },
    {
      "cell_type": "code",
      "execution_count": 69,
      "metadata": {
        "id": "hyROq8XpfyYl"
      },
      "outputs": [],
      "source": [
        "from sklearn.model_selection import train_test_split"
      ]
    },
    {
      "cell_type": "code",
      "execution_count": 70,
      "metadata": {
        "id": "jIxtI7Wadklp"
      },
      "outputs": [],
      "source": [
        "X_train,X_test,y_train,y_test=train_test_split(X_res,y_res,test_size=0.2,random_state=42,stratify=y_res)"
      ]
    },
    {
      "cell_type": "code",
      "execution_count": 71,
      "metadata": {
        "colab": {
          "base_uri": "https://localhost:8080/",
          "height": 352
        },
        "id": "Lx3v519xDDN5",
        "outputId": "01704890-f83f-4119-d388-080916b7dafb"
      },
      "outputs": [
        {
          "name": "stdout",
          "output_type": "stream",
          "text": [
            "[LightGBM] [Warning] Found whitespace in feature_names, replace with underlines\n",
            "[LightGBM] [Info] Number of positive: 3609, number of negative: 3608\n",
            "[LightGBM] [Info] Auto-choosing row-wise multi-threading, the overhead of testing was 0.000715 seconds.\n",
            "You can set `force_row_wise=true` to remove the overhead.\n",
            "And if memory is not enough, you can set `force_col_wise=true`.\n",
            "[LightGBM] [Info] Total Bins 1043\n",
            "[LightGBM] [Info] Number of data points in the train set: 7217, number of used features: 10\n",
            "[LightGBM] [Info] [binary:BoostFromScore]: pavg=0.500069 -> initscore=0.000277\n",
            "[LightGBM] [Info] Start training from score 0.000277\n"
          ]
        },
        {
          "data": {
            "text/html": [
              "<style>#sk-container-id-1 {\n",
              "  /* Definition of color scheme common for light and dark mode */\n",
              "  --sklearn-color-text: black;\n",
              "  --sklearn-color-line: gray;\n",
              "  /* Definition of color scheme for unfitted estimators */\n",
              "  --sklearn-color-unfitted-level-0: #fff5e6;\n",
              "  --sklearn-color-unfitted-level-1: #f6e4d2;\n",
              "  --sklearn-color-unfitted-level-2: #ffe0b3;\n",
              "  --sklearn-color-unfitted-level-3: chocolate;\n",
              "  /* Definition of color scheme for fitted estimators */\n",
              "  --sklearn-color-fitted-level-0: #f0f8ff;\n",
              "  --sklearn-color-fitted-level-1: #d4ebff;\n",
              "  --sklearn-color-fitted-level-2: #b3dbfd;\n",
              "  --sklearn-color-fitted-level-3: cornflowerblue;\n",
              "\n",
              "  /* Specific color for light theme */\n",
              "  --sklearn-color-text-on-default-background: var(--sg-text-color, var(--theme-code-foreground, var(--jp-content-font-color1, black)));\n",
              "  --sklearn-color-background: var(--sg-background-color, var(--theme-background, var(--jp-layout-color0, white)));\n",
              "  --sklearn-color-border-box: var(--sg-text-color, var(--theme-code-foreground, var(--jp-content-font-color1, black)));\n",
              "  --sklearn-color-icon: #696969;\n",
              "\n",
              "  @media (prefers-color-scheme: dark) {\n",
              "    /* Redefinition of color scheme for dark theme */\n",
              "    --sklearn-color-text-on-default-background: var(--sg-text-color, var(--theme-code-foreground, var(--jp-content-font-color1, white)));\n",
              "    --sklearn-color-background: var(--sg-background-color, var(--theme-background, var(--jp-layout-color0, #111)));\n",
              "    --sklearn-color-border-box: var(--sg-text-color, var(--theme-code-foreground, var(--jp-content-font-color1, white)));\n",
              "    --sklearn-color-icon: #878787;\n",
              "  }\n",
              "}\n",
              "\n",
              "#sk-container-id-1 {\n",
              "  color: var(--sklearn-color-text);\n",
              "}\n",
              "\n",
              "#sk-container-id-1 pre {\n",
              "  padding: 0;\n",
              "}\n",
              "\n",
              "#sk-container-id-1 input.sk-hidden--visually {\n",
              "  border: 0;\n",
              "  clip: rect(1px 1px 1px 1px);\n",
              "  clip: rect(1px, 1px, 1px, 1px);\n",
              "  height: 1px;\n",
              "  margin: -1px;\n",
              "  overflow: hidden;\n",
              "  padding: 0;\n",
              "  position: absolute;\n",
              "  width: 1px;\n",
              "}\n",
              "\n",
              "#sk-container-id-1 div.sk-dashed-wrapped {\n",
              "  border: 1px dashed var(--sklearn-color-line);\n",
              "  margin: 0 0.4em 0.5em 0.4em;\n",
              "  box-sizing: border-box;\n",
              "  padding-bottom: 0.4em;\n",
              "  background-color: var(--sklearn-color-background);\n",
              "}\n",
              "\n",
              "#sk-container-id-1 div.sk-container {\n",
              "  /* jupyter's `normalize.less` sets `[hidden] { display: none; }`\n",
              "     but bootstrap.min.css set `[hidden] { display: none !important; }`\n",
              "     so we also need the `!important` here to be able to override the\n",
              "     default hidden behavior on the sphinx rendered scikit-learn.org.\n",
              "     See: https://github.com/scikit-learn/scikit-learn/issues/21755 */\n",
              "  display: inline-block !important;\n",
              "  position: relative;\n",
              "}\n",
              "\n",
              "#sk-container-id-1 div.sk-text-repr-fallback {\n",
              "  display: none;\n",
              "}\n",
              "\n",
              "div.sk-parallel-item,\n",
              "div.sk-serial,\n",
              "div.sk-item {\n",
              "  /* draw centered vertical line to link estimators */\n",
              "  background-image: linear-gradient(var(--sklearn-color-text-on-default-background), var(--sklearn-color-text-on-default-background));\n",
              "  background-size: 2px 100%;\n",
              "  background-repeat: no-repeat;\n",
              "  background-position: center center;\n",
              "}\n",
              "\n",
              "/* Parallel-specific style estimator block */\n",
              "\n",
              "#sk-container-id-1 div.sk-parallel-item::after {\n",
              "  content: \"\";\n",
              "  width: 100%;\n",
              "  border-bottom: 2px solid var(--sklearn-color-text-on-default-background);\n",
              "  flex-grow: 1;\n",
              "}\n",
              "\n",
              "#sk-container-id-1 div.sk-parallel {\n",
              "  display: flex;\n",
              "  align-items: stretch;\n",
              "  justify-content: center;\n",
              "  background-color: var(--sklearn-color-background);\n",
              "  position: relative;\n",
              "}\n",
              "\n",
              "#sk-container-id-1 div.sk-parallel-item {\n",
              "  display: flex;\n",
              "  flex-direction: column;\n",
              "}\n",
              "\n",
              "#sk-container-id-1 div.sk-parallel-item:first-child::after {\n",
              "  align-self: flex-end;\n",
              "  width: 50%;\n",
              "}\n",
              "\n",
              "#sk-container-id-1 div.sk-parallel-item:last-child::after {\n",
              "  align-self: flex-start;\n",
              "  width: 50%;\n",
              "}\n",
              "\n",
              "#sk-container-id-1 div.sk-parallel-item:only-child::after {\n",
              "  width: 0;\n",
              "}\n",
              "\n",
              "/* Serial-specific style estimator block */\n",
              "\n",
              "#sk-container-id-1 div.sk-serial {\n",
              "  display: flex;\n",
              "  flex-direction: column;\n",
              "  align-items: center;\n",
              "  background-color: var(--sklearn-color-background);\n",
              "  padding-right: 1em;\n",
              "  padding-left: 1em;\n",
              "}\n",
              "\n",
              "\n",
              "/* Toggleable style: style used for estimator/Pipeline/ColumnTransformer box that is\n",
              "clickable and can be expanded/collapsed.\n",
              "- Pipeline and ColumnTransformer use this feature and define the default style\n",
              "- Estimators will overwrite some part of the style using the `sk-estimator` class\n",
              "*/\n",
              "\n",
              "/* Pipeline and ColumnTransformer style (default) */\n",
              "\n",
              "#sk-container-id-1 div.sk-toggleable {\n",
              "  /* Default theme specific background. It is overwritten whether we have a\n",
              "  specific estimator or a Pipeline/ColumnTransformer */\n",
              "  background-color: var(--sklearn-color-background);\n",
              "}\n",
              "\n",
              "/* Toggleable label */\n",
              "#sk-container-id-1 label.sk-toggleable__label {\n",
              "  cursor: pointer;\n",
              "  display: block;\n",
              "  width: 100%;\n",
              "  margin-bottom: 0;\n",
              "  padding: 0.5em;\n",
              "  box-sizing: border-box;\n",
              "  text-align: center;\n",
              "}\n",
              "\n",
              "#sk-container-id-1 label.sk-toggleable__label-arrow:before {\n",
              "  /* Arrow on the left of the label */\n",
              "  content: \"▸\";\n",
              "  float: left;\n",
              "  margin-right: 0.25em;\n",
              "  color: var(--sklearn-color-icon);\n",
              "}\n",
              "\n",
              "#sk-container-id-1 label.sk-toggleable__label-arrow:hover:before {\n",
              "  color: var(--sklearn-color-text);\n",
              "}\n",
              "\n",
              "/* Toggleable content - dropdown */\n",
              "\n",
              "#sk-container-id-1 div.sk-toggleable__content {\n",
              "  max-height: 0;\n",
              "  max-width: 0;\n",
              "  overflow: hidden;\n",
              "  text-align: left;\n",
              "  /* unfitted */\n",
              "  background-color: var(--sklearn-color-unfitted-level-0);\n",
              "}\n",
              "\n",
              "#sk-container-id-1 div.sk-toggleable__content.fitted {\n",
              "  /* fitted */\n",
              "  background-color: var(--sklearn-color-fitted-level-0);\n",
              "}\n",
              "\n",
              "#sk-container-id-1 div.sk-toggleable__content pre {\n",
              "  margin: 0.2em;\n",
              "  border-radius: 0.25em;\n",
              "  color: var(--sklearn-color-text);\n",
              "  /* unfitted */\n",
              "  background-color: var(--sklearn-color-unfitted-level-0);\n",
              "}\n",
              "\n",
              "#sk-container-id-1 div.sk-toggleable__content.fitted pre {\n",
              "  /* unfitted */\n",
              "  background-color: var(--sklearn-color-fitted-level-0);\n",
              "}\n",
              "\n",
              "#sk-container-id-1 input.sk-toggleable__control:checked~div.sk-toggleable__content {\n",
              "  /* Expand drop-down */\n",
              "  max-height: 200px;\n",
              "  max-width: 100%;\n",
              "  overflow: auto;\n",
              "}\n",
              "\n",
              "#sk-container-id-1 input.sk-toggleable__control:checked~label.sk-toggleable__label-arrow:before {\n",
              "  content: \"▾\";\n",
              "}\n",
              "\n",
              "/* Pipeline/ColumnTransformer-specific style */\n",
              "\n",
              "#sk-container-id-1 div.sk-label input.sk-toggleable__control:checked~label.sk-toggleable__label {\n",
              "  color: var(--sklearn-color-text);\n",
              "  background-color: var(--sklearn-color-unfitted-level-2);\n",
              "}\n",
              "\n",
              "#sk-container-id-1 div.sk-label.fitted input.sk-toggleable__control:checked~label.sk-toggleable__label {\n",
              "  background-color: var(--sklearn-color-fitted-level-2);\n",
              "}\n",
              "\n",
              "/* Estimator-specific style */\n",
              "\n",
              "/* Colorize estimator box */\n",
              "#sk-container-id-1 div.sk-estimator input.sk-toggleable__control:checked~label.sk-toggleable__label {\n",
              "  /* unfitted */\n",
              "  background-color: var(--sklearn-color-unfitted-level-2);\n",
              "}\n",
              "\n",
              "#sk-container-id-1 div.sk-estimator.fitted input.sk-toggleable__control:checked~label.sk-toggleable__label {\n",
              "  /* fitted */\n",
              "  background-color: var(--sklearn-color-fitted-level-2);\n",
              "}\n",
              "\n",
              "#sk-container-id-1 div.sk-label label.sk-toggleable__label,\n",
              "#sk-container-id-1 div.sk-label label {\n",
              "  /* The background is the default theme color */\n",
              "  color: var(--sklearn-color-text-on-default-background);\n",
              "}\n",
              "\n",
              "/* On hover, darken the color of the background */\n",
              "#sk-container-id-1 div.sk-label:hover label.sk-toggleable__label {\n",
              "  color: var(--sklearn-color-text);\n",
              "  background-color: var(--sklearn-color-unfitted-level-2);\n",
              "}\n",
              "\n",
              "/* Label box, darken color on hover, fitted */\n",
              "#sk-container-id-1 div.sk-label.fitted:hover label.sk-toggleable__label.fitted {\n",
              "  color: var(--sklearn-color-text);\n",
              "  background-color: var(--sklearn-color-fitted-level-2);\n",
              "}\n",
              "\n",
              "/* Estimator label */\n",
              "\n",
              "#sk-container-id-1 div.sk-label label {\n",
              "  font-family: monospace;\n",
              "  font-weight: bold;\n",
              "  display: inline-block;\n",
              "  line-height: 1.2em;\n",
              "}\n",
              "\n",
              "#sk-container-id-1 div.sk-label-container {\n",
              "  text-align: center;\n",
              "}\n",
              "\n",
              "/* Estimator-specific */\n",
              "#sk-container-id-1 div.sk-estimator {\n",
              "  font-family: monospace;\n",
              "  border: 1px dotted var(--sklearn-color-border-box);\n",
              "  border-radius: 0.25em;\n",
              "  box-sizing: border-box;\n",
              "  margin-bottom: 0.5em;\n",
              "  /* unfitted */\n",
              "  background-color: var(--sklearn-color-unfitted-level-0);\n",
              "}\n",
              "\n",
              "#sk-container-id-1 div.sk-estimator.fitted {\n",
              "  /* fitted */\n",
              "  background-color: var(--sklearn-color-fitted-level-0);\n",
              "}\n",
              "\n",
              "/* on hover */\n",
              "#sk-container-id-1 div.sk-estimator:hover {\n",
              "  /* unfitted */\n",
              "  background-color: var(--sklearn-color-unfitted-level-2);\n",
              "}\n",
              "\n",
              "#sk-container-id-1 div.sk-estimator.fitted:hover {\n",
              "  /* fitted */\n",
              "  background-color: var(--sklearn-color-fitted-level-2);\n",
              "}\n",
              "\n",
              "/* Specification for estimator info (e.g. \"i\" and \"?\") */\n",
              "\n",
              "/* Common style for \"i\" and \"?\" */\n",
              "\n",
              ".sk-estimator-doc-link,\n",
              "a:link.sk-estimator-doc-link,\n",
              "a:visited.sk-estimator-doc-link {\n",
              "  float: right;\n",
              "  font-size: smaller;\n",
              "  line-height: 1em;\n",
              "  font-family: monospace;\n",
              "  background-color: var(--sklearn-color-background);\n",
              "  border-radius: 1em;\n",
              "  height: 1em;\n",
              "  width: 1em;\n",
              "  text-decoration: none !important;\n",
              "  margin-left: 1ex;\n",
              "  /* unfitted */\n",
              "  border: var(--sklearn-color-unfitted-level-1) 1pt solid;\n",
              "  color: var(--sklearn-color-unfitted-level-1);\n",
              "}\n",
              "\n",
              ".sk-estimator-doc-link.fitted,\n",
              "a:link.sk-estimator-doc-link.fitted,\n",
              "a:visited.sk-estimator-doc-link.fitted {\n",
              "  /* fitted */\n",
              "  border: var(--sklearn-color-fitted-level-1) 1pt solid;\n",
              "  color: var(--sklearn-color-fitted-level-1);\n",
              "}\n",
              "\n",
              "/* On hover */\n",
              "div.sk-estimator:hover .sk-estimator-doc-link:hover,\n",
              ".sk-estimator-doc-link:hover,\n",
              "div.sk-label-container:hover .sk-estimator-doc-link:hover,\n",
              ".sk-estimator-doc-link:hover {\n",
              "  /* unfitted */\n",
              "  background-color: var(--sklearn-color-unfitted-level-3);\n",
              "  color: var(--sklearn-color-background);\n",
              "  text-decoration: none;\n",
              "}\n",
              "\n",
              "div.sk-estimator.fitted:hover .sk-estimator-doc-link.fitted:hover,\n",
              ".sk-estimator-doc-link.fitted:hover,\n",
              "div.sk-label-container:hover .sk-estimator-doc-link.fitted:hover,\n",
              ".sk-estimator-doc-link.fitted:hover {\n",
              "  /* fitted */\n",
              "  background-color: var(--sklearn-color-fitted-level-3);\n",
              "  color: var(--sklearn-color-background);\n",
              "  text-decoration: none;\n",
              "}\n",
              "\n",
              "/* Span, style for the box shown on hovering the info icon */\n",
              ".sk-estimator-doc-link span {\n",
              "  display: none;\n",
              "  z-index: 9999;\n",
              "  position: relative;\n",
              "  font-weight: normal;\n",
              "  right: .2ex;\n",
              "  padding: .5ex;\n",
              "  margin: .5ex;\n",
              "  width: min-content;\n",
              "  min-width: 20ex;\n",
              "  max-width: 50ex;\n",
              "  color: var(--sklearn-color-text);\n",
              "  box-shadow: 2pt 2pt 4pt #999;\n",
              "  /* unfitted */\n",
              "  background: var(--sklearn-color-unfitted-level-0);\n",
              "  border: .5pt solid var(--sklearn-color-unfitted-level-3);\n",
              "}\n",
              "\n",
              ".sk-estimator-doc-link.fitted span {\n",
              "  /* fitted */\n",
              "  background: var(--sklearn-color-fitted-level-0);\n",
              "  border: var(--sklearn-color-fitted-level-3);\n",
              "}\n",
              "\n",
              ".sk-estimator-doc-link:hover span {\n",
              "  display: block;\n",
              "}\n",
              "\n",
              "/* \"?\"-specific style due to the `<a>` HTML tag */\n",
              "\n",
              "#sk-container-id-1 a.estimator_doc_link {\n",
              "  float: right;\n",
              "  font-size: 1rem;\n",
              "  line-height: 1em;\n",
              "  font-family: monospace;\n",
              "  background-color: var(--sklearn-color-background);\n",
              "  border-radius: 1rem;\n",
              "  height: 1rem;\n",
              "  width: 1rem;\n",
              "  text-decoration: none;\n",
              "  /* unfitted */\n",
              "  color: var(--sklearn-color-unfitted-level-1);\n",
              "  border: var(--sklearn-color-unfitted-level-1) 1pt solid;\n",
              "}\n",
              "\n",
              "#sk-container-id-1 a.estimator_doc_link.fitted {\n",
              "  /* fitted */\n",
              "  border: var(--sklearn-color-fitted-level-1) 1pt solid;\n",
              "  color: var(--sklearn-color-fitted-level-1);\n",
              "}\n",
              "\n",
              "/* On hover */\n",
              "#sk-container-id-1 a.estimator_doc_link:hover {\n",
              "  /* unfitted */\n",
              "  background-color: var(--sklearn-color-unfitted-level-3);\n",
              "  color: var(--sklearn-color-background);\n",
              "  text-decoration: none;\n",
              "}\n",
              "\n",
              "#sk-container-id-1 a.estimator_doc_link.fitted:hover {\n",
              "  /* fitted */\n",
              "  background-color: var(--sklearn-color-fitted-level-3);\n",
              "}\n",
              "</style><div id=\"sk-container-id-1\" class=\"sk-top-container\"><div class=\"sk-text-repr-fallback\"><pre>LGBMClassifier(n_jobs=-1, random_state=5176)</pre><b>In a Jupyter environment, please rerun this cell to show the HTML representation or trust the notebook. <br />On GitHub, the HTML representation is unable to render, please try loading this page with nbviewer.org.</b></div><div class=\"sk-container\" hidden><div class=\"sk-item\"><div class=\"sk-estimator fitted sk-toggleable\"><input class=\"sk-toggleable__control sk-hidden--visually\" id=\"sk-estimator-id-1\" type=\"checkbox\" checked><label for=\"sk-estimator-id-1\" class=\"sk-toggleable__label fitted sk-toggleable__label-arrow fitted\">&nbsp;LGBMClassifier<span class=\"sk-estimator-doc-link fitted\">i<span>Fitted</span></span></label><div class=\"sk-toggleable__content fitted\"><pre>LGBMClassifier(n_jobs=-1, random_state=5176)</pre></div> </div></div></div></div>"
            ],
            "text/plain": [
              "LGBMClassifier(n_jobs=-1, random_state=5176)"
            ]
          },
          "execution_count": 71,
          "metadata": {},
          "output_type": "execute_result"
        }
      ],
      "source": [
        "# build the lightgbm model\n",
        "import lightgbm as lgb\n",
        "clf = lgb.LGBMClassifier(boosting_type='gbdt', class_weight=None,\n",
        "                                 colsample_bytree=1.0, importance_type='split',\n",
        "                                 learning_rate=0.1, max_depth=-1,\n",
        "                                 min_child_samples=20, min_child_weight=0.001,\n",
        "                                 min_split_gain=0.0, n_estimators=100, n_jobs=-1,\n",
        "                                 num_leaves=31, objective=None,\n",
        "                                 random_state=5176, reg_alpha=0.0,\n",
        "                                 reg_lambda=0.0, subsample=1.0,\n",
        "                                 subsample_for_bin=200000, subsample_freq=0)\n",
        "clf.fit(X_train, y_train)"
      ]
    },
    {
      "cell_type": "code",
      "execution_count": 72,
      "metadata": {
        "id": "jxYYNsvgEGRv"
      },
      "outputs": [],
      "source": [
        "y_pred=clf.predict(X_test)"
      ]
    },
    {
      "cell_type": "code",
      "execution_count": 73,
      "metadata": {
        "colab": {
          "base_uri": "https://localhost:8080/"
        },
        "id": "a89BAwuXEJs1",
        "outputId": "6f8e09c8-cb0a-42a9-db25-7b1f0d9abd92"
      },
      "outputs": [
        {
          "name": "stdout",
          "output_type": "stream",
          "text": [
            "LightGBM Model accuracy score: 0.9889\n"
          ]
        }
      ],
      "source": [
        "from sklearn.metrics import accuracy_score\n",
        "accuracy=accuracy_score(y_pred, y_test)\n",
        "print('LightGBM Model accuracy score: {0:0.4f}'.format(accuracy_score(y_test, y_pred)))"
      ]
    },
    {
      "cell_type": "code",
      "execution_count": 74,
      "metadata": {
        "colab": {
          "base_uri": "https://localhost:8080/"
        },
        "id": "sFp4SwaMENZp",
        "outputId": "6f89990c-6727-42e6-c30c-30f07f65951e"
      },
      "outputs": [
        {
          "name": "stdout",
          "output_type": "stream",
          "text": [
            "Training-set accuracy score: 1.0000\n"
          ]
        }
      ],
      "source": [
        "y_pred_train = clf.predict(X_train)\n",
        "print('Training-set accuracy score: {0:0.4f}'. format(accuracy_score(y_train, y_pred_train)))"
      ]
    },
    {
      "cell_type": "code",
      "execution_count": 75,
      "metadata": {
        "colab": {
          "base_uri": "https://localhost:8080/"
        },
        "id": "fkyexxmnEWTV",
        "outputId": "43ec96ca-0b35-4a6f-acb4-51a51d6bd8e8"
      },
      "outputs": [
        {
          "name": "stdout",
          "output_type": "stream",
          "text": [
            "Confusion matrix\n",
            "\n",
            " [[890  13]\n",
            " [  7 895]]\n",
            "\n",
            "True Positives(TP) =  890\n",
            "\n",
            "True Negatives(TN) =  895\n",
            "\n",
            "False Positives(FP) =  13\n",
            "\n",
            "False Negatives(FN) =  7\n"
          ]
        }
      ],
      "source": [
        "from sklearn.metrics import confusion_matrix\n",
        "cm = confusion_matrix(y_test, y_pred)\n",
        "print('Confusion matrix\\n\\n', cm)\n",
        "print('\\nTrue Positives(TP) = ', cm[0,0])\n",
        "print('\\nTrue Negatives(TN) = ', cm[1,1])\n",
        "print('\\nFalse Positives(FP) = ', cm[0,1])\n",
        "print('\\nFalse Negatives(FN) = ', cm[1,0])"
      ]
    },
    {
      "cell_type": "code",
      "execution_count": 76,
      "metadata": {
        "id": "leAuSkXVE6h1"
      },
      "outputs": [],
      "source": [
        "import seaborn as sns"
      ]
    },
    {
      "cell_type": "code",
      "execution_count": 77,
      "metadata": {
        "colab": {
          "base_uri": "https://localhost:8080/",
          "height": 447
        },
        "id": "GzSspxZdEVwL",
        "outputId": "a3188cd2-0bb2-4af3-a133-1a9fd142eceb"
      },
      "outputs": [
        {
          "data": {
            "text/plain": [
              "<Axes: >"
            ]
          },
          "execution_count": 77,
          "metadata": {},
          "output_type": "execute_result"
        },
        {
          "data": {
            "image/png": "[encoded data removed]",
            "text/plain": [
              "<Figure size 640x480 with 2 Axes>"
            ]
          },
          "metadata": {},
          "output_type": "display_data"
        }
      ],
      "source": [
        "cm_matrix = pd.DataFrame(data=cm, columns=['Actual Positive:1', 'Actual Negative:0'],\n",
        "                                 index=['Predict Positive:1', 'Predict Negative:0'])\n",
        "\n",
        "sns.heatmap(cm_matrix, annot=True, fmt='d', cmap='YlGnBu')"
      ]
    },
    {
      "cell_type": "code",
      "execution_count": 78,
      "metadata": {
        "colab": {
          "base_uri": "https://localhost:8080/"
        },
        "id": "6EN5eh__EdEH",
        "outputId": "d8ab0613-43db-4ccb-bdae-f45abfc136fa"
      },
      "outputs": [
        {
          "name": "stdout",
          "output_type": "stream",
          "text": [
            "              precision    recall  f1-score   support\n",
            "\n",
            "           0       0.99      0.99      0.99       903\n",
            "           1       0.99      0.99      0.99       902\n",
            "\n",
            "    accuracy                           0.99      1805\n",
            "   macro avg       0.99      0.99      0.99      1805\n",
            "weighted avg       0.99      0.99      0.99      1805\n",
            "\n"
          ]
        }
      ],
      "source": [
        "from sklearn.metrics import classification_report\n",
        "print(classification_report(y_test, y_pred))"
      ]
    },
    {
      "cell_type": "code",
      "execution_count": 79,
      "metadata": {
        "id": "USJI5AIhkFHk"
      },
      "outputs": [],
      "source": [
        "from sklearn.metrics import roc_auc_score,roc_curve\n",
        "import matplotlib.pyplot as plt"
      ]
    },
    {
      "cell_type": "code",
      "execution_count": 80,
      "metadata": {
        "colab": {
          "base_uri": "https://localhost:8080/"
        },
        "id": "4AQxo2huR0M-",
        "outputId": "a716447d-aa8c-4924-b68b-281615376e87"
      },
      "outputs": [
        {
          "data": {
            "text/plain": [
              "np.float64(0.9889215057961513)"
            ]
          },
          "execution_count": 80,
          "metadata": {},
          "output_type": "execute_result"
        }
      ],
      "source": [
        "roc_auc_score(y_test, y_pred, average='macro', sample_weight=None, max_fpr=None, multi_class='raise', labels=None)"
      ]
    },
    {
      "cell_type": "code",
      "execution_count": 81,
      "metadata": {
        "id": "OdQHA_pkQ5Dr"
      },
      "outputs": [],
      "source": [
        "def plot_roc_curve(true_y, y_prob):\n",
        "    \"\"\"\n",
        "    plots the roc curve based of the probabilities\n",
        "    \"\"\"\n",
        "\n",
        "    fpr, tpr, thresholds = roc_curve(true_y, y_prob)\n",
        "    plt.plot(fpr, tpr)\n",
        "    plt.xlabel('False Positive Rate')\n",
        "    plt.ylabel('True Positive Rate')"
      ]
    },
    {
      "cell_type": "code",
      "execution_count": 82,
      "metadata": {
        "colab": {
          "base_uri": "https://localhost:8080/",
          "height": 449
        },
        "id": "t-SCA2i4RIdI",
        "outputId": "06f55086-35d8-4cbb-cc51-1380493fd301"
      },
      "outputs": [
        {
          "data": {
            "image/png": "[encoded data removed]",
            "text/plain": [
              "<Figure size 640x480 with 1 Axes>"
            ]
          },
          "metadata": {},
          "output_type": "display_data"
        }
      ],
      "source": [
        "plot_roc_curve(y_test, y_pred)"
      ]
    },
    {
      "cell_type": "code",
      "execution_count": 83,
      "metadata": {},
      "outputs": [],
      "source": [
        "import pickle\n",
        "pickle.dump(clf, open('model.pkl', 'wb'))"
      ]
    },
    {
      "cell_type": "code",
      "execution_count": null,
      "metadata": {},
      "outputs": [],
      "source": []
    }
  ],
  "metadata": {
    "colab": {
      "provenance": []
    },
    "kernelspec": {
      "display_name": "Python 3",
      "name": "python3"
    },
    "language_info": {
      "codemirror_mode": {
        "name": "ipython",
        "version": 3
      },
      "file_extension": ".py",
      "mimetype": "text/x-python",
      "name": "python",
      "nbconvert_exporter": "python",
      "pygments_lexer": "ipython3",
      "version": "3.9.0"
    }
  },
  "nbformat": 4,
  "nbformat_minor": 0
}
